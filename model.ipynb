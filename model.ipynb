{
 "cells": [
  {
   "cell_type": "code",
   "execution_count": 1,
   "metadata": {
    "collapsed": true
   },
   "outputs": [],
   "source": [
    "from typing import Tuple, List\n",
    "\n",
    "import matplotlib.pyplot as plt\n",
    "import numpy as np\n",
    "import pandas as pd\n",
    "import seaborn as sns\n",
    "import xgboost as xgb\n",
    "from matplotlib.axes import Axes\n",
    "from sklearn.ensemble import GradientBoostingRegressor\n",
    "from sklearn.impute import KNNImputer\n",
    "from sklearn.metrics import mean_squared_error, mean_absolute_error\n",
    "from sklearn.model_selection import train_test_split\n",
    "import pickle"
   ]
  },
  {
   "cell_type": "code",
   "execution_count": 2,
   "outputs": [
    {
     "name": "stdout",
     "output_type": "stream",
     "text": [
      "Index(['Price', 'Number of rooms', 'Area', 'Fully equipped kitchen',\n",
      "       'Furnished', 'Open fire', 'Terrace Area', 'Garden',\n",
      "       'Surface of the land', 'Number of facades', 'Swimming pool',\n",
      "       'Type of property_house', 'State of the building_to renovate',\n",
      "       'State of the building_new', 'lat', 'lng'],\n",
      "      dtype='object')\n",
      "(70340, 15) (70340,)\n"
     ]
    }
   ],
   "source": [
    "from sklearn.pipeline import Pipeline\n",
    "\n",
    "df: np.ndarray = pd.read_csv(\"database.csv\",\n",
    "                               index_col=0).values\n",
    "print(pd.read_csv(\"database.csv\",\n",
    "                               index_col=0).columns)\n",
    "X: np.ndarray = pd.DataFrame(df).drop(columns=[0]).values\n",
    "y: np.ndarray = df[:, 0].flatten()\n",
    "print(X.shape, y.shape)\n",
    "X_train, X_test, y_train, y_test = train_test_split(X, y, random_state=42)"
   ],
   "metadata": {
    "collapsed": false,
    "pycharm": {
     "name": "#%%\n"
    }
   }
  },
  {
   "cell_type": "code",
   "execution_count": 3,
   "outputs": [],
   "source": [
    "params = {'random_state': 42, 'n_estimators': 604, 'max_depth': 8, 'learning_rate': 0.07137287160659607,\n",
    " 'gamma': 0.42182404638273713, 'colsample_bytree': 0.5178480668480605}\n",
    "\n",
    "# 0.87868669132923\n",
    "# 0.7210963293130916\n",
    "\n",
    "steps: List[Tuple] = [\n",
    "    # (\"imputer\", KNNImputer(n_neighbors=10)),\n",
    "    # (\"reg\", GradientBoostingRegressor(**params)),)\n",
    "    (\"reg\", xgb.XGBRegressor(tree_method=\"gpu_hist\", gpu_id=0, **params)),]\n",
    "\n",
    "pipe: Pipeline = Pipeline(steps=steps)\n",
    "\n",
    "pipe.fit(X_train, y_train)\n",
    "with open('model.pkl','wb') as f:\n",
    "    pickle.dump(pipe,f)"
   ],
   "metadata": {
    "collapsed": false,
    "pycharm": {
     "name": "#%%\n"
    }
   }
  },
  {
   "cell_type": "code",
   "execution_count": 4,
   "outputs": [
    {
     "data": {
      "text/plain": "<matplotlib.legend.Legend at 0x284925cc520>"
     },
     "execution_count": 4,
     "metadata": {},
     "output_type": "execute_result"
    },
    {
     "data": {
      "text/plain": "<Figure size 720x720 with 1 Axes>",
      "image/png": "[encoded data removed]"
     },
     "metadata": {},
     "output_type": "display_data"
    }
   ],
   "source": [
    "sns.set(\"notebook\", style=\"darkgrid\")\n",
    "preds = pipe.predict(X_test)\n",
    "\n",
    "results: pd.DataFrame = pd.DataFrame(np.array(list(zip(preds, y_test))), columns=(\"Predictions\", \"Expectations\"))\n",
    "results.sort_values(\"Predictions\").reset_index(drop=True, inplace=True)\n",
    "\n",
    "plt.figure(figsize=(10, 10), dpi=72)\n",
    "sns.histplot(data=results[\"Expectations\"], label=\"Expectations\", color=\"Green\")\n",
    "sns.histplot(data=results[\"Predictions\"], label=\"Predictions\", color=\"Blue\")\n",
    "plt.xscale(\"log\")\n",
    "plt.xlabel(\"Price\")\n",
    "plt.title(\"Distribution of real estate price results for the model vs expectations\")\n",
    "plt.legend()"
   ],
   "metadata": {
    "collapsed": false,
    "pycharm": {
     "name": "#%%\n"
    }
   }
  },
  {
   "cell_type": "code",
   "execution_count": 5,
   "outputs": [
    {
     "name": "stdout",
     "output_type": "stream",
     "text": [
      "Training score: 0.9590479986844843\n",
      "Test score: 0.79488697635022\n",
      "MSE: 30236741392.019257\n",
      "MAE: 78291.92208358509\n"
     ]
    }
   ],
   "source": [
    "print(f\"Training score: {pipe.score(X_train, y_train)}\")\n",
    "print(f\"Test score: {pipe.score(X_test, y_test)}\")\n",
    "print(f\"MSE: {mean_squared_error(y_test, pipe.predict(X_test))}\")\n",
    "print(f\"MAE: {mean_absolute_error(y_test, pipe.predict(X_test))}\")"
   ],
   "metadata": {
    "collapsed": false,
    "pycharm": {
     "name": "#%%\n"
    }
   }
  },
  {
   "cell_type": "code",
   "execution_count": null,
   "outputs": [],
   "source": [
    "fig: plt.Figure = plt.figure(figsize=(10, (X_train.shape[1] + 1) * 10), dpi=72)\n",
    "gs: plt.GridSpec = fig.add_gridspec(X_train.shape[1] + 1, 1)\n",
    "for i, column in enumerate(['Number of rooms', 'Area',\n",
    "                            'Fully equipped kitchen', 'Furnished', 'Open fire', 'Terrace Area',\n",
    "                            'Garden',\n",
    "                            'Surface of the land', 'Number of facades',\n",
    "                            'Swimming pool', 'Type of property_house',\n",
    "                            'State of the building_new', 'State of the building_to renovate',]):\n",
    "    ax: Axes = fig.add_subplot(gs[i])\n",
    "    sns.barplot(x=X_test[:, i], y=y_test, color=\"green\", estimator=np.mean, ci=None, label=\"Expectations\", alpha=0.5,\n",
    "    ax = ax)\n",
    "    sns.barplot(x=X_test[:, i], y=preds, color=\"blue\", estimator=np.mean, ci=None, label=\"Predictions\", alpha=0.5,\n",
    "    ax = ax)\n",
    "    ax.set_title(f\"Price over {column.replace('_', ' ').capitalize()}\")\n",
    "    ax.set_ylabel(\"Price\")\n",
    "    # ax.set_yscale(\"log\")\n",
    "    # if i in (1,2,7,9,):\n",
    "    #     ax.set_xscale(\"log\")\n",
    "    ax.set_xlabel(column.replace('_', ' ').capitalize())\n",
    "    ax.legend()"
   ],
   "metadata": {
    "collapsed": false,
    "pycharm": {
     "name": "#%%\n",
     "is_executing": true
    }
   }
  },
  {
   "cell_type": "code",
   "execution_count": null,
   "outputs": [],
   "source": [
    "data = pd.DataFrame(np.zeros((1,15)), columns =['Number of rooms', 'Area',\n",
    "       'Fully equipped kitchen', 'Furnished', 'Open fire',\n",
    "       'Terrace Area', 'Garden', 'Surface of the land', 'Number of facades',\n",
    "       'Swimming pool', 'Type of property_house',\n",
    "       'State of the building_to renovate', 'State of the building_new', 'lat', 'lng'])\n",
    "\n",
    "data[\"Area\"] = 70\n",
    "data[\"Number of rooms\"] = 1\n",
    "data[\"Fully equipped kitchen\"] = 1\n",
    "data[\"Number of facades\"] = 2\n",
    "data[\"lat\"]  = 50.8427501\n",
    "data[\"lng\"] = 4.3515499\n",
    "\n",
    "print(data.shape)\n",
    "\n",
    "pipe.predict(data.values)\n",
    "\n",
    "#"
   ],
   "metadata": {
    "collapsed": false,
    "pycharm": {
     "name": "#%%\n",
     "is_executing": true
    }
   }
  },
  {
   "cell_type": "code",
   "execution_count": null,
   "outputs": [],
   "source": [],
   "metadata": {
    "collapsed": false,
    "pycharm": {
     "name": "#%%\n",
     "is_executing": true
    }
   }
  }
 ],
 "metadata": {
  "kernelspec": {
   "display_name": "Python 3",
   "language": "python",
   "name": "python3"
  },
  "language_info": {
   "codemirror_mode": {
    "name": "ipython",
    "version": 2
   },
   "file_extension": ".py",
   "mimetype": "text/x-python",
   "name": "python",
   "nbconvert_exporter": "python",
   "pygments_lexer": "ipython2",
   "version": "2.7.6"
  }
 },
 "nbformat": 4,
 "nbformat_minor": 0
}